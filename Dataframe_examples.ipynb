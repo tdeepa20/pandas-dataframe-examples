{
 "cells": [
  {
   "cell_type": "markdown",
   "id": "7749fd06-3a0d-4b42-816a-ef495c767200",
   "metadata": {},
   "source": [
    "Pandas DataFrame - Practice Tasks\n",
    "This notebook contains practice examples for creating and working with Pandas Dataframes."
   ]
  },
  {
   "cell_type": "markdown",
   "id": "744d6bc3-28fa-4fe4-af70-4b74623b639d",
   "metadata": {},
   "source": [
    "# Syntax\n",
    "dataframe_name=pandas.DataFrame(data,columns=..,index=..,dtype=..)\n",
    "     \n",
    "     data: Actual data (lists, dictionaries, Series, etc.)\n",
    "     columns: Names for the columns\n",
    "     index: Row labels\n",
    "     dtype: Data type for each column (optional)"
   ]
  },
  {
   "cell_type": "markdown",
   "id": "09fabcf7-f63a-43b3-b7cc-d73476d2862d",
   "metadata": {},
   "source": [
    "# creating dataframes\n",
    "DataFrames can be created using different Python data structures:\n",
    "     \n",
    "     1.List\n",
    "     2.Series object\n",
    "     3.Dictionary\n",
    "     4.Numpy array"
   ]
  },
  {
   "cell_type": "markdown",
   "id": "a8fbb24b-6154-4761-aff3-40673ab6dc5e",
   "metadata": {},
   "source": [
    "# Creating empty dataframe"
   ]
  },
  {
   "cell_type": "code",
   "execution_count": 54,
   "id": "00dbd63f-52f1-476e-907b-05ac430093c1",
   "metadata": {},
   "outputs": [
    {
     "name": "stdout",
     "output_type": "stream",
     "text": [
      "Empty DataFrame\n",
      "Columns: []\n",
      "Index: []\n"
     ]
    }
   ],
   "source": [
    "import pandas as pd\n",
    "df=pd.DataFrame()\n",
    "print(df)"
   ]
  },
  {
   "cell_type": "markdown",
   "id": "96b4cd99-2f42-450b-9b45-e16fa0141d9a",
   "metadata": {},
   "source": [
    "1. list\n",
    "# creating dataframe using single list with default indexing"
   ]
  },
  {
   "cell_type": "code",
   "execution_count": 9,
   "id": "3d939172-9e4c-4d9e-a47f-6ae65a5957d9",
   "metadata": {},
   "outputs": [
    {
     "name": "stdout",
     "output_type": "stream",
     "text": [
      "        0\n",
      "0      TV\n",
      "1  Mobile\n",
      "2  Laptop\n",
      "3  Tablet\n"
     ]
    }
   ],
   "source": [
    "#Example: Single list as a column\n",
    "product= [\"TV\", \"Mobile\", \"Laptop\", \"Tablet\"]\n",
    "df=pd.DataFrame(product)\n",
    "print(df)"
   ]
  },
  {
   "cell_type": "markdown",
   "id": "e19d75a5-d4af-4f91-91c3-df72cfdb9c1f",
   "metadata": {},
   "source": [
    "# creating dataframe using custom index"
   ]
  },
  {
   "cell_type": "code",
   "execution_count": 52,
   "id": "f97f4267-59f3-4bfe-aa8e-fe17c6ce06da",
   "metadata": {},
   "outputs": [
    {
     "name": "stdout",
     "output_type": "stream",
     "text": [
      "         product_name  sales_amount\n",
      "product1           TV         10000\n",
      "product2       Mobile         30000\n",
      "product3       Laptop         50000\n",
      "product4       Tablet         40000\n"
     ]
    }
   ],
   "source": [
    "sales_details=[[\"TV\",10000],[\"Mobile\",30000],[\"Laptop\",50000],[\"Tablet\",40000]]\n",
    "product_details=['product1','product2','product3','product4']\n",
    "df=pd.DataFrame(sales_details,index=product_details,columns=['product_name','sales_amount'])\n",
    "print(df)"
   ]
  },
  {
   "cell_type": "markdown",
   "id": "a38c3527-2343-4972-8588-e78cb803f059",
   "metadata": {},
   "source": [
    "2.Series object"
   ]
  },
  {
   "cell_type": "markdown",
   "id": "e51f707b-b210-4739-9a86-4c030ecc5b1b",
   "metadata": {},
   "source": [
    "# Creating a DataFrame from a single Series with default indexing"
   ]
  },
  {
   "cell_type": "code",
   "execution_count": 10,
   "id": "35411c91-81f0-43dd-92f2-c08f02d2ef46",
   "metadata": {},
   "outputs": [
    {
     "name": "stdout",
     "output_type": "stream",
     "text": [
      "        0\n",
      "0      TV\n",
      "1  Mobile\n",
      "2  Laptop\n",
      "3  Tablet\n"
     ]
    }
   ],
   "source": [
    "product= pd.Series([\"TV\", \"Mobile\", \"Laptop\", \"Tablet\"])\n",
    "df=pd.DataFrame(product)\n",
    "print(df)"
   ]
  },
  {
   "cell_type": "markdown",
   "id": "d4262e42-a80c-4084-a38a-5cb1376935c7",
   "metadata": {},
   "source": [
    "# creating dataframe using series and custom row index"
   ]
  },
  {
   "cell_type": "code",
   "execution_count": 53,
   "id": "d287fbd5-3ca7-41bb-a75a-5f6fc7ea1b3f",
   "metadata": {},
   "outputs": [
    {
     "name": "stdout",
     "output_type": "stream",
     "text": [
      "               0\n",
      "product1      TV\n",
      "product2  Mobile\n",
      "product3  Laptop\n",
      "product4  Tablet\n"
     ]
    }
   ],
   "source": [
    "product= pd.Series([\"TV\", \"Mobile\", \"Laptop\", \"Tablet\"],index=['product1','product2','product3','product4'])\n",
    "df=pd.DataFrame(product)\n",
    "print(df)"
   ]
  },
  {
   "cell_type": "markdown",
   "id": "a6bf0dd5-f877-4792-88e2-04259ade38eb",
   "metadata": {},
   "source": [
    "# creating dataframe using two series object"
   ]
  },
  {
   "cell_type": "code",
   "execution_count": 12,
   "id": "9110bd7d-2809-45ae-80ca-1519a1d97575",
   "metadata": {},
   "outputs": [
    {
     "name": "stdout",
     "output_type": "stream",
     "text": [
      "  product1 product2 product3 product4\n",
      "0       TV   Mobile   Laptop   Tablet\n",
      "1    10000    30000    50000    40000\n"
     ]
    }
   ],
   "source": [
    "product= pd.Series([\"TV\", \"Mobile\", \"Laptop\", \"Tablet\"],index=['product1','product2','product3','product4'])\n",
    "jan_sales= pd.Series([10000,30000,50000,40000],index=['product1','product2','product3','product4'])\n",
    "df=pd.DataFrame([product,jan_sales])\n",
    "print(df)"
   ]
  },
  {
   "cell_type": "markdown",
   "id": "ddc420fe-00a2-4ba0-b49a-7af00cbc9d29",
   "metadata": {},
   "source": [
    "3. Dictionary\n",
    "# creating dataframe using dictionary\n",
    "You can use:\n",
    "          -Dictionary of lists\n",
    "          -Dictionary of series\n",
    "          -List of dictionary"
   ]
  },
  {
   "cell_type": "markdown",
   "id": "2aead5ba-c0fc-4aff-bce2-f89cdb66f582",
   "metadata": {},
   "source": [
    "# dictionary of lists"
   ]
  },
  {
   "cell_type": "code",
   "execution_count": 15,
   "id": "bddf482d-bf3a-439a-8d4e-3798c92941af",
   "metadata": {},
   "outputs": [
    {
     "name": "stdout",
     "output_type": "stream",
     "text": [
      "  product  jan_sales  feb_sales  mar_sales\n",
      "0      TV      10000      20000      14000\n",
      "1  Mobile      30000      15000      26000\n",
      "2  Laptop      50000      45000      80000\n",
      "3  Tablet      40000      30000      70000\n"
     ]
    }
   ],
   "source": [
    "product={'product':['TV','Mobile','Laptop','Tablet'],\n",
    "         'jan_sales':[10000,30000,50000,40000],\n",
    "         'feb_sales':[20000,15000,45000,30000],\n",
    "         'mar_sales':[14000,26000,80000,70000]\n",
    "}\n",
    "df=pd.DataFrame(product)\n",
    "print(df)"
   ]
  },
  {
   "cell_type": "markdown",
   "id": "74968f75-3f93-4e75-b3ab-eb57bf2d076f",
   "metadata": {},
   "source": [
    "# dictionary of series"
   ]
  },
  {
   "cell_type": "code",
   "execution_count": 18,
   "id": "fdbff771-b363-45dd-b847-5dc7f68dd506",
   "metadata": {},
   "outputs": [
    {
     "name": "stdout",
     "output_type": "stream",
     "text": [
      "  product_name  jan_sales  feb_sales  mar_sales\n",
      "0           TV      10000      20000      14000\n",
      "1       Mobile      30000      15000      26000\n",
      "2       Laptop      50000      45000      80000\n",
      "3       Tablet      40000      30000      70000\n"
     ]
    }
   ],
   "source": [
    "product= pd.Series([\"TV\", \"Mobile\", \"Laptop\", \"Tablet\"])\n",
    "jan =pd.Series([10000,30000,50000,40000])\n",
    "feb =pd.Series([20000,15000,45000,30000])\n",
    "mar =pd.Series([14000,26000,80000,70000])\n",
    "product_details={'product_name':product,'jan_sales':jan,'feb_sales':feb,'mar_sales':mar}\n",
    "df=pd.DataFrame(product_details)\n",
    "print(df)"
   ]
  },
  {
   "cell_type": "markdown",
   "id": "8c013e3d-86af-472b-86ce-73823233f531",
   "metadata": {},
   "source": [
    "# list of dictionary"
   ]
  },
  {
   "cell_type": "code",
   "execution_count": 27,
   "id": "8f1ac593-ca77-4f07-85b9-556ec101d358",
   "metadata": {},
   "outputs": [
    {
     "name": "stdout",
     "output_type": "stream",
     "text": [
      "         Product    Jan    Feb\n",
      "product1      TV  10000  12000\n",
      "product2  Mobile  30000  32000\n",
      "product3  Laptop  50000  48000\n",
      "product4  Tablet  40000  45000\n"
     ]
    }
   ],
   "source": [
    "product_details = [\n",
    "    {\"Product\": \"TV\", \"Jan\": 10000, \"Feb\": 12000},\n",
    "    {\"Product\": \"Mobile\", \"Jan\": 30000, \"Feb\": 32000},\n",
    "    {\"Product\": \"Laptop\", \"Jan\": 50000, \"Feb\": 48000},\n",
    "    {\"Product\": \"Tablet\", \"Jan\": 40000, \"Feb\": 45000}\n",
    "]\n",
    "df=pd.DataFrame(product_details,index=['product1','product2','product3','product4'])\n",
    "print(df)"
   ]
  },
  {
   "cell_type": "markdown",
   "id": "94e46c32-a761-4ec7-8942-7de033ba122f",
   "metadata": {},
   "source": [
    "4.Numpy array"
   ]
  },
  {
   "cell_type": "markdown",
   "id": "1e18c7ed-9f63-4a1d-81d5-741902843eaf",
   "metadata": {},
   "source": [
    "# creating dataframe using np array"
   ]
  },
  {
   "cell_type": "code",
   "execution_count": 24,
   "id": "6e62cde9-3f98-4943-ad7d-0d065dadc9be",
   "metadata": {},
   "outputs": [],
   "source": [
    "import numpy as np"
   ]
  },
  {
   "cell_type": "code",
   "execution_count": 29,
   "id": "dc29a743-2d2a-4612-a497-03a23c69cae7",
   "metadata": {},
   "outputs": [
    {
     "name": "stdout",
     "output_type": "stream",
     "text": [
      "  product_details jan_sales feb_sales\n",
      "0              TV     10000     12000\n",
      "1          Mobile     30000     32000\n",
      "2          Laptop     50000     48000\n",
      "3          Tablet     40000     45000\n"
     ]
    }
   ],
   "source": [
    "product1=np.array([\"TV\",10000,12000])\n",
    "product2=np.array([ \"Mobile\",30000,32000])\n",
    "product3=np.array([\"Laptop\",50000,48000])\n",
    "product4=np.array([\"Tablet\",40000,45000])\n",
    "df1=pd.DataFrame([product1,product2,product3,product4],columns=['product_details','jan_sales','feb_sales'])\n",
    "print(df1)"
   ]
  },
  {
   "cell_type": "markdown",
   "id": "cd264f82-46b5-4043-bd1d-4dd57e562d03",
   "metadata": {},
   "source": [
    "## Dataframe slicing"
   ]
  },
  {
   "cell_type": "markdown",
   "id": "39c96470-f668-4cb9-83a3-72ee70a545a9",
   "metadata": {},
   "source": [
    "# Accessing single values\n",
    "\n",
    "    at method → Using .at[]\n",
    "\n",
    "    iat method →Using .iat[]\n",
    "\n",
    "# Accessing ranges\n",
    "\n",
    "    slicing → Using slicing [start:stop]"
   ]
  },
  {
   "cell_type": "markdown",
   "id": "ffaef460-0be3-4512-98a4-cf052865a4b7",
   "metadata": {},
   "source": [
    "# at method"
   ]
  },
  {
   "cell_type": "code",
   "execution_count": 30,
   "id": "d3e14623-75da-454c-b095-55581823ca34",
   "metadata": {},
   "outputs": [
    {
     "name": "stdout",
     "output_type": "stream",
     "text": [
      "Mobile\n"
     ]
    }
   ],
   "source": [
    "print(df1.at[1,'product_details'])"
   ]
  },
  {
   "cell_type": "markdown",
   "id": "72acbdb3-9c17-49fc-b7ce-332e231da6ce",
   "metadata": {},
   "source": [
    "# iat method"
   ]
  },
  {
   "cell_type": "code",
   "execution_count": 31,
   "id": "71144eef-5d45-4357-bc52-750e872b0431",
   "metadata": {},
   "outputs": [
    {
     "name": "stdout",
     "output_type": "stream",
     "text": [
      "Mobile\n"
     ]
    }
   ],
   "source": [
    "print(df1.iat[1,0])"
   ]
  },
  {
   "cell_type": "markdown",
   "id": "6112bbec-c66c-4ec0-8227-f7cc4f2a2b08",
   "metadata": {},
   "source": [
    "# accessing ranges using normal slicing"
   ]
  },
  {
   "cell_type": "code",
   "execution_count": 32,
   "id": "b98581a9-b961-4ca1-ac3c-2563c5e42d42",
   "metadata": {},
   "outputs": [
    {
     "name": "stdout",
     "output_type": "stream",
     "text": [
      "  product_details jan_sales feb_sales\n",
      "1          Mobile     30000     32000\n",
      "2          Laptop     50000     48000\n"
     ]
    }
   ],
   "source": [
    "print(df1[1:3])"
   ]
  },
  {
   "cell_type": "markdown",
   "id": "5cd36662-c4d8-4f3a-af70-7dbbd149ec25",
   "metadata": {},
   "source": [
    "# set index method"
   ]
  },
  {
   "cell_type": "code",
   "execution_count": 34,
   "id": "bb55350a-5962-47f5-8e74-139d7ef9487d",
   "metadata": {},
   "outputs": [
    {
     "name": "stdout",
     "output_type": "stream",
     "text": [
      "  product  jan_sales  feb_sales  mar_sales\n",
      "0      TV      10000      20000      14000\n",
      "1  Mobile      30000      15000      26000\n",
      "2  Laptop      50000      45000      80000\n",
      "3  Tablet      40000      30000      70000\n"
     ]
    }
   ],
   "source": [
    "product2={'product':['TV','Mobile','Laptop','Tablet'],\n",
    "         'jan_sales':[10000,30000,50000,40000],\n",
    "         'feb_sales':[20000,15000,45000,30000],\n",
    "         'mar_sales':[14000,26000,80000,70000]\n",
    "}\n",
    "df2=pd.DataFrame(product2)\n",
    "print(df2)"
   ]
  },
  {
   "cell_type": "code",
   "execution_count": 35,
   "id": "ec8af184-5903-4808-ae5e-6dcfb088c3eb",
   "metadata": {},
   "outputs": [],
   "source": [
    "df2.set_index(\"product\", inplace=True)"
   ]
  },
  {
   "cell_type": "code",
   "execution_count": 36,
   "id": "4923bc75-8cc1-44d4-a78e-e0416fc1221f",
   "metadata": {},
   "outputs": [
    {
     "name": "stdout",
     "output_type": "stream",
     "text": [
      "         jan_sales  feb_sales  mar_sales\n",
      "product                                 \n",
      "TV           10000      20000      14000\n",
      "Mobile       30000      15000      26000\n",
      "Laptop       50000      45000      80000\n",
      "Tablet       40000      30000      70000\n"
     ]
    }
   ],
   "source": [
    "print(df2)"
   ]
  },
  {
   "cell_type": "code",
   "execution_count": 37,
   "id": "82d9521a-b3ef-4b60-8695-eb96469b46d4",
   "metadata": {},
   "outputs": [],
   "source": [
    "df2.reset_index(inplace=True)"
   ]
  },
  {
   "cell_type": "code",
   "execution_count": 38,
   "id": "da892c3e-f438-4a57-995f-d9507c3b6dc6",
   "metadata": {},
   "outputs": [
    {
     "name": "stdout",
     "output_type": "stream",
     "text": [
      "  product  jan_sales  feb_sales  mar_sales\n",
      "0      TV      10000      20000      14000\n",
      "1  Mobile      30000      15000      26000\n",
      "2  Laptop      50000      45000      80000\n",
      "3  Tablet      40000      30000      70000\n"
     ]
    }
   ],
   "source": [
    "print(df2)"
   ]
  },
  {
   "cell_type": "markdown",
   "id": "ff192754-6e45-4d4d-9764-88e873a9f1b2",
   "metadata": {},
   "source": [
    "# Dataframe attributes"
   ]
  },
  {
   "cell_type": "code",
   "execution_count": 40,
   "id": "d17d380d-70d2-4798-a289-5881b39a48ed",
   "metadata": {},
   "outputs": [
    {
     "name": "stdout",
     "output_type": "stream",
     "text": [
      "2\n",
      "product      object\n",
      "jan_sales     int64\n",
      "feb_sales     int64\n",
      "mar_sales     int64\n",
      "dtype: object\n"
     ]
    }
   ],
   "source": [
    "# Returns the number of dimensions \n",
    "print(df2.ndim)"
   ]
  },
  {
   "cell_type": "code",
   "execution_count": 41,
   "id": "88f36cbf-41a4-4d92-9d96-6cdb1b940878",
   "metadata": {},
   "outputs": [
    {
     "name": "stdout",
     "output_type": "stream",
     "text": [
      "product      object\n",
      "jan_sales     int64\n",
      "feb_sales     int64\n",
      "mar_sales     int64\n",
      "dtype: object\n"
     ]
    }
   ],
   "source": [
    "# Returns the data types of each column \n",
    "print(df2.dtypes)"
   ]
  },
  {
   "cell_type": "code",
   "execution_count": 42,
   "id": "48dfe7ca-860e-4c75-bf30-d215493fc328",
   "metadata": {},
   "outputs": [
    {
     "name": "stdout",
     "output_type": "stream",
     "text": [
      "16\n"
     ]
    }
   ],
   "source": [
    "# Returns total number of elements (rows × columns)\n",
    "print(df2.size)"
   ]
  },
  {
   "cell_type": "code",
   "execution_count": 43,
   "id": "7af86fc6-b405-45b3-9345-d8ba0583d1e1",
   "metadata": {},
   "outputs": [
    {
     "name": "stdout",
     "output_type": "stream",
     "text": [
      "(4, 4)\n"
     ]
    }
   ],
   "source": [
    "# Returns a tuple (rows, columns)\n",
    "print(df2.shape)"
   ]
  },
  {
   "cell_type": "code",
   "execution_count": 44,
   "id": "e71a0dd3-288f-4e05-9477-1ac0c4016213",
   "metadata": {},
   "outputs": [
    {
     "name": "stdout",
     "output_type": "stream",
     "text": [
      "[['TV' 10000 20000 14000]\n",
      " ['Mobile' 30000 15000 26000]\n",
      " ['Laptop' 50000 45000 80000]\n",
      " ['Tablet' 40000 30000 70000]]\n"
     ]
    }
   ],
   "source": [
    "# Returns the data \n",
    "print(df2.values)"
   ]
  },
  {
   "cell_type": "code",
   "execution_count": 45,
   "id": "9098b068-9093-4ba0-bced-fae3c52a05ed",
   "metadata": {},
   "outputs": [
    {
     "name": "stdout",
     "output_type": "stream",
     "text": [
      "False\n"
     ]
    }
   ],
   "source": [
    "# Returns True if DataFrame is empty\n",
    "print(df2.empty)"
   ]
  },
  {
   "cell_type": "code",
   "execution_count": 46,
   "id": "c7dff037-6e1a-46c9-b8d1-75c30e0697b5",
   "metadata": {},
   "outputs": [
    {
     "name": "stdout",
     "output_type": "stream",
     "text": [
      "False\n"
     ]
    }
   ],
   "source": [
    "# Checks if any missing (NaN) values are present \n",
    "print(df2.isna().values.any())"
   ]
  },
  {
   "cell_type": "code",
   "execution_count": 47,
   "id": "c408b5e3-9149-4b12-b0c7-a64b51ff645d",
   "metadata": {},
   "outputs": [
    {
     "name": "stdout",
     "output_type": "stream",
     "text": [
      "RangeIndex(start=0, stop=4, step=1)\n"
     ]
    }
   ],
   "source": [
    "# Returns the row index labels\n",
    "print(df2.index)"
   ]
  },
  {
   "cell_type": "code",
   "execution_count": 48,
   "id": "35d3b19f-0417-4208-8669-6cfacac72eba",
   "metadata": {},
   "outputs": [
    {
     "name": "stdout",
     "output_type": "stream",
     "text": [
      "Index(['product', 'jan_sales', 'feb_sales', 'mar_sales'], dtype='object')\n"
     ]
    }
   ],
   "source": [
    "# Returns the column labels\n",
    "print(df2.columns)"
   ]
  },
  {
   "cell_type": "code",
   "execution_count": 49,
   "id": "2e34c170-a58d-40a1-ad2b-5abd75ceee04",
   "metadata": {},
   "outputs": [
    {
     "name": "stdout",
     "output_type": "stream",
     "text": [
      "[RangeIndex(start=0, stop=4, step=1), Index(['product', 'jan_sales', 'feb_sales', 'mar_sales'], dtype='object')]\n"
     ]
    }
   ],
   "source": [
    "# Returns both row and column labels\n",
    "print(df2.axes)"
   ]
  },
  {
   "cell_type": "code",
   "execution_count": 50,
   "id": "6bc34a51-5ed7-4d58-884e-44faf7904be8",
   "metadata": {},
   "outputs": [
    {
     "name": "stdout",
     "output_type": "stream",
     "text": [
      "               0       1       2       3\n",
      "product       TV  Mobile  Laptop  Tablet\n",
      "jan_sales  10000   30000   50000   40000\n",
      "feb_sales  20000   15000   45000   30000\n",
      "mar_sales  14000   26000   80000   70000\n"
     ]
    }
   ],
   "source": [
    "# Returns the transposed version of the DataFrame\n",
    "print(df2.T)"
   ]
  },
  {
   "cell_type": "code",
   "execution_count": 51,
   "id": "d959d98c-5620-4c10-bc2c-d4a76ed6c397",
   "metadata": {},
   "outputs": [
    {
     "name": "stdout",
     "output_type": "stream",
     "text": [
      "product      4\n",
      "jan_sales    4\n",
      "feb_sales    4\n",
      "mar_sales    4\n",
      "dtype: int64\n"
     ]
    }
   ],
   "source": [
    "# Returns the number of non-null entries in each column\n",
    "print(df2.count())"
   ]
  },
  {
   "cell_type": "markdown",
   "id": "be444389-fabf-4e51-aa90-4f55c1117278",
   "metadata": {},
   "source": [
    "Summary\n",
    "- A \"DataFrame\" is a 2-dimensional data structure\n",
    "- It used to store and manipulate tabular data.\n",
    "- It can store any datatype ( eg : int,float, string)\n",
    "- It has numeric data labels by default, but also supports \" custom labels\""
   ]
  }
 ],
 "metadata": {
  "kernelspec": {
   "display_name": "Python 3 (ipykernel)",
   "language": "python",
   "name": "python3"
  },
  "language_info": {
   "codemirror_mode": {
    "name": "ipython",
    "version": 3
   },
   "file_extension": ".py",
   "mimetype": "text/x-python",
   "name": "python",
   "nbconvert_exporter": "python",
   "pygments_lexer": "ipython3",
   "version": "3.13.5"
  }
 },
 "nbformat": 4,
 "nbformat_minor": 5
}
